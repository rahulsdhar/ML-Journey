{
 "cells": [
  {
   "cell_type": "code",
   "execution_count": 1,
   "id": "917e4ed3",
   "metadata": {},
   "outputs": [],
   "source": [
    "import numpy as np\n",
    "import pandas as pd"
   ]
  },
  {
   "cell_type": "code",
   "execution_count": 6,
   "id": "307b88a5",
   "metadata": {},
   "outputs": [],
   "source": [
    "#Time Speed and Target Distance and Remaining Distance\n",
    "Samples=50\n",
    "Time=np.random.randint(60,size=Samples) #minutes\n",
    "Speed=np.random.randint(100,size=Samples) #Kmps\n",
    "#TD>CD\n",
    "Curr_Distance=Time*60*Speed\n",
    "Remaining_Distance=np.random.randint(1000,size=Samples)\n",
    "Target_Distance=Curr_Distance+Remaining_Distance"
   ]
  },
  {
   "cell_type": "code",
   "execution_count": 8,
   "id": "a9b5a6a2",
   "metadata": {},
   "outputs": [
    {
     "data": {
      "text/html": [
       "<div>\n",
       "<style scoped>\n",
       "    .dataframe tbody tr th:only-of-type {\n",
       "        vertical-align: middle;\n",
       "    }\n",
       "\n",
       "    .dataframe tbody tr th {\n",
       "        vertical-align: top;\n",
       "    }\n",
       "\n",
       "    .dataframe thead th {\n",
       "        text-align: right;\n",
       "    }\n",
       "</style>\n",
       "<table border=\"1\" class=\"dataframe\">\n",
       "  <thead>\n",
       "    <tr style=\"text-align: right;\">\n",
       "      <th></th>\n",
       "      <th>Time</th>\n",
       "      <th>Speed</th>\n",
       "      <th>Target Distance</th>\n",
       "      <th>Remaining Distance</th>\n",
       "    </tr>\n",
       "  </thead>\n",
       "  <tbody>\n",
       "    <tr>\n",
       "      <th>0</th>\n",
       "      <td>29</td>\n",
       "      <td>35</td>\n",
       "      <td>61667</td>\n",
       "      <td>767</td>\n",
       "    </tr>\n",
       "    <tr>\n",
       "      <th>1</th>\n",
       "      <td>14</td>\n",
       "      <td>36</td>\n",
       "      <td>30765</td>\n",
       "      <td>525</td>\n",
       "    </tr>\n",
       "    <tr>\n",
       "      <th>2</th>\n",
       "      <td>23</td>\n",
       "      <td>39</td>\n",
       "      <td>54685</td>\n",
       "      <td>865</td>\n",
       "    </tr>\n",
       "    <tr>\n",
       "      <th>3</th>\n",
       "      <td>3</td>\n",
       "      <td>66</td>\n",
       "      <td>12488</td>\n",
       "      <td>608</td>\n",
       "    </tr>\n",
       "    <tr>\n",
       "      <th>4</th>\n",
       "      <td>47</td>\n",
       "      <td>34</td>\n",
       "      <td>96064</td>\n",
       "      <td>184</td>\n",
       "    </tr>\n",
       "  </tbody>\n",
       "</table>\n",
       "</div>"
      ],
      "text/plain": [
       "   Time  Speed  Target Distance  Remaining Distance\n",
       "0    29     35            61667                 767\n",
       "1    14     36            30765                 525\n",
       "2    23     39            54685                 865\n",
       "3     3     66            12488                 608\n",
       "4    47     34            96064                 184"
      ]
     },
     "execution_count": 8,
     "metadata": {},
     "output_type": "execute_result"
    }
   ],
   "source": [
    "data=pd.DataFrame(data={\"Time\":Time,\"Speed\":Speed,\"Target Distance\":Target_Distance,\"Remaining Distance\":Remaining_Distance})\n",
    "data.head()"
   ]
  }
 ],
 "metadata": {
  "kernelspec": {
   "display_name": "Python 3 (ipykernel)",
   "language": "python",
   "name": "python3"
  },
  "language_info": {
   "codemirror_mode": {
    "name": "ipython",
    "version": 3
   },
   "file_extension": ".py",
   "mimetype": "text/x-python",
   "name": "python",
   "nbconvert_exporter": "python",
   "pygments_lexer": "ipython3",
   "version": "3.10.4"
  }
 },
 "nbformat": 4,
 "nbformat_minor": 5
}
