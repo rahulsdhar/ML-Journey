{
 "cells": [
  {
   "cell_type": "code",
   "execution_count": 1,
   "id": "810a47b4",
   "metadata": {},
   "outputs": [],
   "source": [
    "import numpy as np #math library\n",
    "import pandas as pd #dataset read and write and analysis\n",
    "from matplotlib import pyplot as plt #data visualization"
   ]
  },
  {
   "cell_type": "code",
   "execution_count": 4,
   "id": "a271bc47",
   "metadata": {},
   "outputs": [],
   "source": [
    "%matplotlib inline"
   ]
  },
  {
   "cell_type": "code",
   "execution_count": 2,
   "id": "4b871b92",
   "metadata": {},
   "outputs": [
    {
     "data": {
      "text/plain": [
       "array([ 0,  1,  2,  3,  4,  5,  6,  7,  8,  9, 10, 11, 12, 13, 14, 15, 16,\n",
       "       17, 18, 19, 20, 21, 22, 23, 24, 25, 26, 27, 28, 29, 30, 31, 32, 33,\n",
       "       34, 35, 36, 37, 38, 39, 40, 41, 42, 43, 44, 45, 46, 47, 48, 49, 50,\n",
       "       51, 52, 53, 54, 55, 56, 57, 58, 59, 60, 61, 62, 63, 64, 65, 66, 67,\n",
       "       68, 69, 70, 71, 72, 73, 74, 75, 76, 77, 78, 79, 80, 81, 82, 83, 84,\n",
       "       85, 86, 87, 88, 89, 90, 91, 92, 93, 94, 95, 96, 97, 98, 99])"
      ]
     },
     "execution_count": 2,
     "metadata": {},
     "output_type": "execute_result"
    }
   ],
   "source": [
    "x=np.arange(100)\n",
    "x"
   ]
  },
  {
   "cell_type": "code",
   "execution_count": 3,
   "id": "7d70cb79",
   "metadata": {},
   "outputs": [
    {
     "data": {
      "text/plain": [
       "array([  2.3,   3.8,   5.3,   6.8,   8.3,   9.8,  11.3,  12.8,  14.3,\n",
       "        15.8,  17.3,  18.8,  20.3,  21.8,  23.3,  24.8,  26.3,  27.8,\n",
       "        29.3,  30.8,  32.3,  33.8,  35.3,  36.8,  38.3,  39.8,  41.3,\n",
       "        42.8,  44.3,  45.8,  47.3,  48.8,  50.3,  51.8,  53.3,  54.8,\n",
       "        56.3,  57.8,  59.3,  60.8,  62.3,  63.8,  65.3,  66.8,  68.3,\n",
       "        69.8,  71.3,  72.8,  74.3,  75.8,  77.3,  78.8,  80.3,  81.8,\n",
       "        83.3,  84.8,  86.3,  87.8,  89.3,  90.8,  92.3,  93.8,  95.3,\n",
       "        96.8,  98.3,  99.8, 101.3, 102.8, 104.3, 105.8, 107.3, 108.8,\n",
       "       110.3, 111.8, 113.3, 114.8, 116.3, 117.8, 119.3, 120.8, 122.3,\n",
       "       123.8, 125.3, 126.8, 128.3, 129.8, 131.3, 132.8, 134.3, 135.8,\n",
       "       137.3, 138.8, 140.3, 141.8, 143.3, 144.8, 146.3, 147.8, 149.3,\n",
       "       150.8])"
      ]
     },
     "execution_count": 3,
     "metadata": {},
     "output_type": "execute_result"
    }
   ],
   "source": [
    "m=1.5\n",
    "c=2.3\n",
    "y=m*x+c\n",
    "y"
   ]
  },
  {
   "cell_type": "code",
   "execution_count": 5,
   "id": "9e7c0b28",
   "metadata": {},
   "outputs": [
    {
     "data": {
      "text/plain": [
       "[<matplotlib.lines.Line2D at 0x1703489db70>]"
      ]
     },
     "execution_count": 5,
     "metadata": {},
     "output_type": "execute_result"
    },
    {
     "data": {
      "image/png": "[encoded data removed]",
      "text/plain": [
       "<Figure size 432x288 with 1 Axes>"
      ]
     },
     "metadata": {
      "needs_background": "light"
     },
     "output_type": "display_data"
    }
   ],
   "source": [
    "plt.plot(x,y)"
   ]
  },
  {
   "cell_type": "code",
   "execution_count": 13,
   "id": "3c87d533",
   "metadata": {},
   "outputs": [
    {
     "data": {
      "text/plain": [
       "[<matplotlib.lines.Line2D at 0x17038072ce0>]"
      ]
     },
     "execution_count": 13,
     "metadata": {},
     "output_type": "execute_result"
    },
    {
     "data": {
      "image/png": "[encoded data removed]",
      "text/plain": [
       "<Figure size 432x288 with 1 Axes>"
      ]
     },
     "metadata": {
      "needs_background": "light"
     },
     "output_type": "display_data"
    }
   ],
   "source": [
    "y=y+np.random.rand(100)*5\n",
    "plt.plot(x,y)"
   ]
  },
  {
   "cell_type": "code",
   "execution_count": 153,
   "id": "3c245fb2",
   "metadata": {},
   "outputs": [],
   "source": [
    "m=np.random.rand()\n",
    "c=np.random.rand()\n",
    "def pred(x):\n",
    "    cal_y=x*m+c\n",
    "    return cal_y"
   ]
  },
  {
   "cell_type": "code",
   "execution_count": 32,
   "id": "2c4ee6fb",
   "metadata": {},
   "outputs": [],
   "source": [
    "def error(x):\n",
    "    cal_y=pred(x)\n",
    "    err=np.sum(np.abs(y-cal_y))/100 #abs mean value\n",
    "    return err"
   ]
  },
  {
   "cell_type": "code",
   "execution_count": 264,
   "id": "457c5780",
   "metadata": {},
   "outputs": [],
   "source": [
    "#optimization algo\n",
    "e=0.0001\n",
    "def train():\n",
    "    global m,c\n",
    "    e1=error(x)\n",
    "    old_m=m\n",
    "    m=m+e\n",
    "    e2=error(x)\n",
    "    de=e1-e2\n",
    "    if(de<0):\n",
    "        m=old_m-e\n",
    "        e2=error(x)\n",
    "        de=e1-e2\n",
    "        if(de<0):\n",
    "            m=old_m\n",
    "    e1=error(x)\n",
    "    old_c=c\n",
    "    c=c+e\n",
    "    e2=error(x)\n",
    "    de=e1-e2\n",
    "    if(de<0):\n",
    "        c=old_c-e\n",
    "        e2=error(x)\n",
    "        de=e1-e2\n",
    "        if(de<0):\n",
    "            c=old_c\n",
    "    \n",
    "    "
   ]
  },
  {
   "cell_type": "code",
   "execution_count": 265,
   "id": "e40e011e",
   "metadata": {},
   "outputs": [],
   "source": [
    "for _ in range(5000):\n",
    "    train()"
   ]
  },
  {
   "cell_type": "code",
   "execution_count": 267,
   "id": "94cb06ae",
   "metadata": {},
   "outputs": [
    {
     "data": {
      "text/plain": [
       "1.2362947600186835"
      ]
     },
     "execution_count": 267,
     "metadata": {},
     "output_type": "execute_result"
    },
    {
     "data": {
      "image/png": "[encoded data removed]",
      "text/plain": [
       "<Figure size 432x288 with 1 Axes>"
      ]
     },
     "metadata": {
      "needs_background": "light"
     },
     "output_type": "display_data"
    }
   ],
   "source": [
    "train()\n",
    "cal_y=pred(x)\n",
    "plt.plot(x,cal_y)\n",
    "plt.plot(x,y)\n",
    "error(x)"
   ]
  }
 ],
 "metadata": {
  "kernelspec": {
   "display_name": "Python 3 (ipykernel)",
   "language": "python",
   "name": "python3"
  },
  "language_info": {
   "codemirror_mode": {
    "name": "ipython",
    "version": 3
   },
   "file_extension": ".py",
   "mimetype": "text/x-python",
   "name": "python",
   "nbconvert_exporter": "python",
   "pygments_lexer": "ipython3",
   "version": "3.10.4"
  }
 },
 "nbformat": 4,
 "nbformat_minor": 5
}
