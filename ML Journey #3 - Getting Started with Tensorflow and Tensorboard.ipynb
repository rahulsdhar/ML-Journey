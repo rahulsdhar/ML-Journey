{
 "cells": [
  {
   "cell_type": "code",
   "execution_count": 1,
   "id": "f65b5505",
   "metadata": {},
   "outputs": [],
   "source": [
    "import tensorflow as tf\n",
    "import pandas as pd\n",
    "import numpy as np\n",
    "\n",
    "%matplotlib inline\n",
    "from matplotlib import pyplot\n",
    "plt=pyplot"
   ]
  },
  {
   "cell_type": "code",
   "execution_count": 57,
   "id": "4ce5c2ae",
   "metadata": {},
   "outputs": [
    {
     "data": {
      "text/plain": [
       "[<matplotlib.lines.Line2D at 0x1a4093f9630>]"
      ]
     },
     "execution_count": 57,
     "metadata": {},
     "output_type": "execute_result"
    },
    {
     "data": {
      "image/png": "[encoded data removed]",
      "text/plain": [
       "<Figure size 432x288 with 1 Axes>"
      ]
     },
     "metadata": {
      "needs_background": "light"
     },
     "output_type": "display_data"
    }
   ],
   "source": [
    "samples=50\n",
    "x=np.arange(samples).astype(np.float32)\n",
    "y=x*1.2+0.3+np.random.rand(samples)\n",
    "y=y.astype(np.float32)\n",
    "plt.plot(x,y)"
   ]
  },
  {
   "cell_type": "code",
   "execution_count": 58,
   "id": "323131ea",
   "metadata": {},
   "outputs": [],
   "source": [
    "m=tf.Variable([1],dtype=tf.float32)\n",
    "c=tf.Variable([1],dtype=tf.float32)"
   ]
  },
  {
   "cell_type": "code",
   "execution_count": 59,
   "id": "7c800bbf",
   "metadata": {},
   "outputs": [],
   "source": [
    "@tf.function\n",
    "def pred(x):\n",
    "    y=tf.add(tf.multiply(x,m),c)\n",
    "    return y"
   ]
  },
  {
   "cell_type": "code",
   "execution_count": 60,
   "id": "01df4991",
   "metadata": {},
   "outputs": [],
   "source": [
    "@tf.function\n",
    "def loss(x,y):\n",
    "    pred_y=pred(x)\n",
    "    l= tf.reduce_mean(tf.abs(y-pred_y))\n",
    "    return l"
   ]
  },
  {
   "cell_type": "code",
   "execution_count": 61,
   "id": "5a7515e3",
   "metadata": {},
   "outputs": [],
   "source": [
    "@tf.function\n",
    "def train(x,y):\n",
    "    grad=[0.1]\n",
    "    grad2=tf.multiply(grad,2)\n",
    "    L1=loss(x,y)\n",
    "    m.assign_add(grad)\n",
    "    L2=loss(x,y)\n",
    "    dL=L2-L1\n",
    "    if dL>0:\n",
    "        m.assign_sub(grad2)\n",
    "        L2=loss(x,y)\n",
    "        dL=L2-L1\n",
    "        if dL>0:\n",
    "            m.assign_add(grad)\n",
    "    \n",
    "    L1=loss(x,y)\n",
    "    c.assign_add(grad)\n",
    "    L2=loss(x,y)\n",
    "    dL=L2-L1\n",
    "    if dL>0:\n",
    "        c.assign_sub(grad2)\n",
    "        L2=loss(x,y)\n",
    "        dL=L2-L1\n",
    "        if dL>0:\n",
    "            c.assign_add(grad)\n",
    "    return L1"
   ]
  },
  {
   "cell_type": "code",
   "execution_count": 62,
   "id": "1033105b",
   "metadata": {},
   "outputs": [],
   "source": [
    "def plot(x,y):\n",
    "    pred_y=pred(x).numpy()\n",
    "    plt.plot(x,y)\n",
    "    plt.plot(x,pred_y)"
   ]
  },
  {
   "cell_type": "code",
   "execution_count": 56,
   "id": "00f7e328",
   "metadata": {},
   "outputs": [],
   "source": [
    "board=tf.summary.create_file_writer(\"log/example\")"
   ]
  },
  {
   "cell_type": "code",
   "execution_count": null,
   "id": "8887aa87",
   "metadata": {},
   "outputs": [],
   "source": []
  },
  {
   "cell_type": "code",
   "execution_count": 65,
   "id": "49d555d0",
   "metadata": {},
   "outputs": [
    {
     "data": {
      "image/png": "[encoded data removed]",
      "text/plain": [
       "<Figure size 432x288 with 1 Axes>"
      ]
     },
     "metadata": {
      "needs_background": "light"
     },
     "output_type": "display_data"
    }
   ],
   "source": [
    "for epochs in range(20):\n",
    "    with board.as_default():\n",
    "        l=train(x,y).numpy()\n",
    "        tf.summary.scalar(\"loss\",l,step=epochs)\n",
    "plot(x,y)"
   ]
  }
 ],
 "metadata": {
  "kernelspec": {
   "display_name": "Python 3 (ipykernel)",
   "language": "python",
   "name": "python3"
  },
  "language_info": {
   "codemirror_mode": {
    "name": "ipython",
    "version": 3
   },
   "file_extension": ".py",
   "mimetype": "text/x-python",
   "name": "python",
   "nbconvert_exporter": "python",
   "pygments_lexer": "ipython3",
   "version": "3.10.4"
  }
 },
 "nbformat": 4,
 "nbformat_minor": 5
}
