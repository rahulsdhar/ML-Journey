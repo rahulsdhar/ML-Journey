{
 "cells": [
  {
   "cell_type": "markdown",
   "id": "5ab9d573",
   "metadata": {},
   "source": [
    "# Defination of Machine Learning\n",
    "Machine Learning is a process where the machine figures out the optimum model to solve a solution by itself."
   ]
  },
  {
   "cell_type": "markdown",
   "id": "6a4e3bbb",
   "metadata": {},
   "source": [
    "Lets take a typical Senerio where we have to predict/calculate something based on other parameters;\n",
    "for example:\n",
    "    1. predicting the distance travelled by a car by knowing its average speed and time.\n",
    "    2. predicting the future temperature based on current temperature, time and season\n",
    "    3. predicting the rise and fall of share market\n",
    "    etc"
   ]
  },
  {
   "cell_type": "markdown",
   "id": "c95d811c",
   "metadata": {},
   "source": [
    "## Basic Structure of Machine Learning Algorithms in General\n",
    "    1. Modelling\n",
    "    2. Training\n",
    "    3. Predicting"
   ]
  },
  {
   "cell_type": "markdown",
   "id": "def0354e",
   "metadata": {},
   "source": [
    "### Starting Point\n",
    "Whatever the goal is, its better to startoff from the very beginning of the whole journey. Its starts from solving the most simple problem requiring the least knowledge possible.\n",
    "\n",
    "### Modelling\n",
    "Lets say, that we have to calculate the distance covered by a car in a given time (T seconds) with a constant speed (S Km/sec) travelling a straight road.\n",
    "To calculate that we just have to multiply the time with speed and we will get the distance. This simple thing can be written as a formula which can also be recoginzed as the optimum model for the solution.\n",
    "So basically the model is simple as the distance is a linear function of speed and time."
   ]
  },
  {
   "cell_type": "markdown",
   "id": "f38d67cf",
   "metadata": {},
   "source": [
    "### Complicated Model\n",
    "Lets spice things up a bit and look for a more complicated situation. Lets take an example where the speed of car is a function of time and remaining distance between the car and the destination.\n",
    "\n",
    "In this situation, there is a bit of ambiguity in the relation between the speed of car and oher parameters like time and remaining distance. To cover up the ambiguity we have to assume another parameter which controls the amount of factor which each parameter contributes indivisually to the key parameter ie the speed of the car. Those parameters are called weights. They are multiplied with their resective parameter and added together to get a final prediction about the key parameter.\n",
    "\n",
    "So far we have formed the equaton to predict the speed of car as:\n",
    "    S = T*W1 + U*W2\n",
    "    -where,\n",
    "        S=speed of car\n",
    "        T=time\n",
    "        U=remaining distance\n",
    "        W1,W2 = Weights\n",
    "        \n",
    "Now, it is also likely that there could be some off-value regulating the speed along with Time and remaining distance. To counter that likelyhood we can assume another parameter called bias which we will add with the output.\n",
    "The resulting equation will become like:\n",
    "    S = T*W1 + U*W2 + B1\n",
    "    -where,\n",
    "        B1=Bias\n",
    "\n",
    "This building of equation concludes the modeling part of Machine Learning.\n",
    "Now, the remaining challenge is to find the value of the tunable parameters W1, W2 and B1 such that we get output as close as possible to the real value.\n",
    "This Searching is the fundamental part of machine learning which is called training of the model. Once trained successfully, we can predict the output given the input parameters."
   ]
  },
  {
   "cell_type": "markdown",
   "id": "823e34cf",
   "metadata": {},
   "source": [
    "### Training The Model\n",
    "\n",
    "The most important part of training a model is to figure out a way to rate the performance or accuracy of the model. This can be done either by using a loss function or reward based scoring system or fitness based scoring system.\n",
    "\n",
    "#### Loss Function\n",
    "Selecting a Proper Loss Function is crusial to perform a proper training. The loss function is a measure of how off-the-mark the current model can predict. Based on it the weights and biases are adjusted to get the lowest possible value from the loss function.\n",
    "\n",
    "#### Back Propagation\n",
    "In a way, the loss function maps the weights and biases with the output and thus makes them trackable. By Trackable it means that the ratio of change in weight with respect to the change in output can be calculated. This Ratio is called gradient and this tracking back of gradients using loss function is called back propagation.\n",
    "\n",
    "#### Optimization\n",
    "By now, it is clear that the gradient contains the information related to how the change of a parameter will affect the output and loss function.\n",
    "The next step is applying the gradients in some way to update the model parameters to actually lower the loss function. This process of applying it is called Optimization.\n"
   ]
  },
  {
   "cell_type": "markdown",
   "id": "bbef509d",
   "metadata": {},
   "source": [
    "### Concept of big data\n",
    "Although the process of training the model seems quite fair but with big data comes big responsibility.\n",
    "Big data is nothing but a large amount of data and as the word big is not well-defined so big data is also not well-defined\n",
    "\n",
    "#### Batching\n",
    "Though the optimization process has been mentioned above very fairly but it would be an understatement to say that it would go without concerning for big data. It should be considered that optimization is not for a single data point only but has to be considered for every data points in the dataset. The loss function is responsible for accounting all the data points in the dataset. It ensures that the updated values is in good terms for all the data points.\n",
    "This means the loss function has to be calculated using a bundle of data. This can cause a probable issue for big data as calculating the loss function for such a massive amount of data would eat up a massive amount of memory and the software could crash due to that; and even if it doesn't crash, it would cause performance issue as calculating it will require a considerable amount of time and processing power.\n",
    "This troublesome situation mentioned earlier can be averted easily by segmenting the big data into smaller data chunks called batches. This process of breaking it down is called batching.\n",
    "\n",
    "#### Learning rate\n",
    "In a situation where there are multiple tunable parameters to provide optimum solution, there is a always a chance for having a multiple optimum configuration. This may interfere the optimization process as the updated parameters could dangle between those points as there is a chance that the model parameter values are being updated independently from other parameters. As a result of this race condition certain instability would occur.\n",
    "For Example, say we have an equation: x+y=5 with initial values as x=3 and y=3. Now the goal of the optimizer here would be to make the output of the equation to be equal to 5. So either x=2 and y=3 or x=3 and y=2 could optimize the problem.\n",
    "As they are being updated indivisually so the optimizer would attempt to update the value of x as x=2 as it wont consider a change in value of y while tracing the gradient. Same goes for y. so finally they both update their values as x=2 and y=2. The optimizer would iterate again and will change the value back to x=3 considering y=2 but again y will update itself as y=3 considering x=2. In short they are not aware of their possible updates and thus ends up dangling between x=3,y=3 and x=2,y=2 and thus never gets optimized properly.\n",
    "To solve this instability of rapidly changing parameters, the update speed is regulated by using a factor called Learning Rate.\n",
    "It means that, if the learning rate is 0.1 and the optimizer want to update the value of x from x=3 to x=2 the optimizer will calculate the change as dx=-1 and then will take a portion of the update by multiplying it with Learning Rate, then adding that portion to the parameter as an update.\n",
    "so, new value of x= previous value of x + (dx * learning rate)\n",
    "therefor if the optimizer want to update the value of x from x=3 to x=2 with learning rate of 0.1 the optimizer will update it to x = 3+(-1*0.1) = 2.9 and y=2.9. Now the next update of x will be aware that the value of y is not 3 but 2.9 and thus required x=2.1 so new x=2.9+(-0.8*0.1) = 2.82 and simillarly y= 2.89 and gradually after several iterations later they will come close to x=2.5 and y=2.5 and this concludes the concept of learning rate.\n",
    " \n",
    "#### Epoch\n",
    "Running through the database once might not completely optimize the network at satisfactory level as training the model is a gradual process and requires a lot of time. The repeated running through the same database again and again is backed by the term of epoch. An epoch gives the measure of times the optimizer runs through the same database."
   ]
  },
  {
   "cell_type": "markdown",
   "id": "1fade7d9",
   "metadata": {},
   "source": [
    "### Artificial Neural Network\n",
    "The most bazzare thing about living organism is that they shows intelligent behaviour. Intellegent beings like humans can behave intelligently because of the presence of nerve cells present in the body. Once upon a time, the working of the nerve cells are observred by a researcher and immitated over a simulation software which showed promissing results. The simulation was intended to study about it, but fortunately that model turned out to possess a greater computation power than traditional machine learning approach. That discovery became revolutionary and stepped up the power of Machine Learning.\n",
    "Artificial Neural Network gave us the idea of a powerful model which when used can be powerful enough to solve real-life complicated problems that traditional Machine Learining Approaches failed to address.\n",
    "\n",
    "In short, ANN is nothing but the concept of a powerful model which is also being used by us humans' brain."
   ]
  },
  {
   "cell_type": "markdown",
   "id": "5fd907a7",
   "metadata": {},
   "source": [
    "### ANN Model Terms\n",
    "\n",
    "#### Perceptron\n",
    "A Neural Network can be represented by a network of interconntected nodes. Each nodes has its own indivisual parameter and thus have the potential to create some form of indivisuality in the whole network. These indivisual parameters are generally simulated using Activation Function and bias. A bias is added to the input signal and then Activation Function is applied to it to transform the input signal.\n",
    "The indivisual parameters are responsible for transforming and translating the input signal to provide its own indivisual response to it and pass it forward in the network.\n",
    "\n",
    "#### Activation Function\n",
    "The non-linearity of an indivisual perceptron can be simulated using a non-linear function called activation function. This non-linearity plays an important role in solving complicated problems as most of the real-life challenges are non-linear.\n",
    "Some of the Common Activation Functions are:\n",
    "- linear\n",
    "- sigmoid\n",
    "- relu\n",
    "- leaky-relu\n",
    "- softmax\n"
   ]
  },
  {
   "cell_type": "markdown",
   "id": "d1382328",
   "metadata": {},
   "source": [
    "### ANN Network\n",
    "A single perceptron is practically not feasable for real-life use cases. Many perceptrons participate in tandem to perform this big task. They topology they are connected plays a vital role in their functionality and performance.\n",
    "\n",
    "#### Layers\n",
    "The arrangements of a typical ANN can be described using neurons in layers and their type of connection.\n",
    "Multiple Perceptrons arranged in parallel to recieve from the same inputs forms a layers.Layers usually takes data from the previous layer. In a layer, each perceptron has their indivisual parameters to decide how much portion of the indivisual input data to receive and this parameter is called weight.\n",
    "The Network starts from input data and therefore Inputs are treated as perceptron forwarding the data in the network. Also called Input Layer. The endpoint of the network is observed and treated as output and thus called the input layer. Anyting in-between is called the hidden layer.\n",
    "\n",
    "#### Hidden Layer\n",
    "The size of an input layer and output layer can be resolved easily because they have to be of the same size of the provided input and the required output. But the size and number of layers inbetween them is not bounded and can have any size and number, thus cannot be guessed factually. As they are hidden until explicitly looked upon; such layers are given the recognization as Hidden Layers.\n",
    "The main objective of the hidden layer is to provide assistance to the network in solving fairly complicated problem by adding more non-linearity to the model.\n",
    "\n",
    "#### Deep Neural Network\n",
    "It is a good practice to keep the model small and as simple as possible. But this comes with a disadvantage as it can only solve a particular Problem and fails generallized approach.\n",
    "To build a generalized model which has the ability to solve problems of various fields; it becomes mandatory to add a lot of hidden layers to the network. Such a big model with high computational requirement is recognized as Deep Neural Network.\n",
    "\n",
    "#### Special Network\n",
    "Lately, a lot of researcher became a fan of ANN and thus contributed a lot of models with exceptional real-life use cases. The secret ingriddent to these Special models is the model structure."
   ]
  },
  {
   "cell_type": "markdown",
   "id": "dfd2c347",
   "metadata": {},
   "source": [
    "#### Other ML Models\n",
    "All the conepts mention above is related to ANN but this approach is just one of many available approaches. ML Models comes in various shapes and sizes and have a lot of fundamental differences among each other. As a ML Engineer, the difference will have a huge impact on the success rate and convinience of any project taken.\n",
    "Based on Training Approach taken, ML Algorithms can be classified into 3 categories:\n",
    "- Supervised Learning\n",
    "- Unsupervised Learning\n",
    "- Reinforcement Learning\n",
    "\n",
    "Based on the type of problem-space, ML Algorithm can be also classified as Regression Based or Classification Based.\n"
   ]
  }
 ],
 "metadata": {
  "kernelspec": {
   "display_name": "Python 3 (ipykernel)",
   "language": "python",
   "name": "python3"
  },
  "language_info": {
   "codemirror_mode": {
    "name": "ipython",
    "version": 3
   },
   "file_extension": ".py",
   "mimetype": "text/x-python",
   "name": "python",
   "nbconvert_exporter": "python",
   "pygments_lexer": "ipython3",
   "version": "3.10.4"
  }
 },
 "nbformat": 4,
 "nbformat_minor": 5
}
